{
  "nbformat": 4,
  "nbformat_minor": 0,
  "metadata": {
    "colab": {
      "provenance": [],
      "authorship_tag": "ABX9TyOqo/xEJqDXyhsQs5HFpo6h",
      "include_colab_link": true
    },
    "kernelspec": {
      "name": "python3",
      "display_name": "Python 3"
    },
    "language_info": {
      "name": "python"
    }
  },
  "cells": [
    {
      "cell_type": "markdown",
      "metadata": {
        "id": "view-in-github",
        "colab_type": "text"
      },
      "source": [
        "<a href=\"https://colab.research.google.com/github/321999/JsonValidator/blob/master/JsonValidator.ipynb\" target=\"_parent\"><img src=\"https://colab.research.google.com/assets/colab-badge.svg\" alt=\"Open In Colab\"/></a>"
      ]
    },
    {
      "cell_type": "markdown",
      "source": [
        "## Any in python"
      ],
      "metadata": {
        "id": "ENEoVQsl94me"
      }
    },
    {
      "cell_type": "code",
      "source": [
        "if any(item in {'id': 123, 'name': 'kishore', 'home_phone': '123-456-7890', 'birth_date': '1990-01-01', 'day': 'SU'} for item in ['home_phone', 'cell_phone', 'work_phone']):\n",
        "  print(\"present hi\")\n",
        "\n",
        "any('hello' in {\"hello\": 33, \"jha\": 98} for s in ['hello', 'world'])  # True\n",
        "# any('hello' in s for s in ['goodbye', 'world'])  # False"
      ],
      "metadata": {
        "id": "1yQPbwtSH0zx",
        "outputId": "7ead597c-4873-4718-8479-45739f4c1085",
        "colab": {
          "base_uri": "https://localhost:8080/"
        }
      },
      "execution_count": 3,
      "outputs": [
        {
          "output_type": "stream",
          "name": "stdout",
          "text": [
            "present hi\n"
          ]
        },
        {
          "output_type": "execute_result",
          "data": {
            "text/plain": [
              "True"
            ]
          },
          "metadata": {},
          "execution_count": 3
        }
      ]
    },
    {
      "cell_type": "markdown",
      "source": [
        "## Creating the Schema to validate the json"
      ],
      "metadata": {
        "id": "2Cuq_pvX-aSv"
      }
    },
    {
      "cell_type": "code",
      "source": [
        "j = {\n",
        "  \"required\": [\"id\", \"name\"],\n",
        "  \"at_least_one_of\": [[\"home_phone\", \"cell_phone\", \"work_phone\"]],\n",
        "  \"either_one\": [\"birth_date\", \"govt_id_number\"],\n",
        "  \"mutually_exclusive\": [[\"home_phone\", \"work_phone\"]],\n",
        "  \"enum\": {\n",
        "    \"day\": [\"SU\", \"MO\", \"TU\", \"WE\", \"TH\", \"FR\", \"SA\"]\n",
        "  }\n",
        "}\n",
        "\n",
        "# loading the\n",
        "json_string = json.dumps(j)\n",
        "\n",
        "# Create a file and write the JSON string to it\n",
        "with open(\"schema_file.json\", \"w\") as f:\n",
        "  f.write(json_string)"
      ],
      "metadata": {
        "id": "3kllhk4CNyOA"
      },
      "execution_count": 11,
      "outputs": []
    },
    {
      "cell_type": "code",
      "source": [
        "%%html\n",
        "<marquee><h1>Trying Different ways to solve the problem</h1> </marquee>"
      ],
      "metadata": {
        "colab": {
          "base_uri": "https://localhost:8080/",
          "height": 79
        },
        "id": "8LYzNH0WAupz",
        "outputId": "05114d4d-ef6b-4d88-a460-715e26fb29ea"
      },
      "execution_count": 18,
      "outputs": [
        {
          "output_type": "display_data",
          "data": {
            "text/plain": [
              "<IPython.core.display.HTML object>"
            ],
            "text/html": [
              "<marquee><h1>Trying Different ways to solve the problem</h1> </marquee>\n"
            ]
          },
          "metadata": {}
        }
      ]
    },
    {
      "cell_type": "code",
      "source": [
        "import json\n",
        "\n",
        "'''\n",
        "1. required fields. Example: id, name field to be declared as they are mandatory\n",
        "2. atleast one of many fields to be present. Example: one of home phone or cell phone\n",
        "or work phone fields\n",
        "3. either one field or another field Either birth date or govt id number\n",
        "4. mutually exclusive fields (if one is present, the other should not be present)\n",
        "5. field value to be one of a set of values. Example: field day can have only one of\n",
        "SU,MO,TU,WE,TH,FR,SA (enum)\n",
        "'''\n",
        "\n",
        "Schema = json.loads(input(\"enter the json file\"))\n",
        "\n",
        "json_string = json.dumps(Schema)\n",
        "# creating the file of json file\n",
        "with open(\"schema.json\", \"w\") as file:\n",
        "    file.write(json_string)"
      ],
      "metadata": {
        "colab": {
          "base_uri": "https://localhost:8080/",
          "height": 391
        },
        "id": "JqDvibqMQbbo",
        "outputId": "44fc70b6-c9ac-4e7e-8c96-190b714e001e"
      },
      "execution_count": 13,
      "outputs": [
        {
          "name": "stdout",
          "output_type": "stream",
          "text": [
            "enter the json file\n"
          ]
        },
        {
          "output_type": "error",
          "ename": "JSONDecodeError",
          "evalue": "ignored",
          "traceback": [
            "\u001b[0;31m---------------------------------------------------------------------------\u001b[0m",
            "\u001b[0;31mJSONDecodeError\u001b[0m                           Traceback (most recent call last)",
            "\u001b[0;32m<ipython-input-13-939f31031485>\u001b[0m in \u001b[0;36m<cell line: 13>\u001b[0;34m()\u001b[0m\n\u001b[1;32m     11\u001b[0m '''\n\u001b[1;32m     12\u001b[0m \u001b[0;34m\u001b[0m\u001b[0m\n\u001b[0;32m---> 13\u001b[0;31m \u001b[0mSchema\u001b[0m \u001b[0;34m=\u001b[0m \u001b[0mjson\u001b[0m\u001b[0;34m.\u001b[0m\u001b[0mloads\u001b[0m\u001b[0;34m(\u001b[0m\u001b[0minput\u001b[0m\u001b[0;34m(\u001b[0m\u001b[0;34m\"enter the json file\"\u001b[0m\u001b[0;34m)\u001b[0m\u001b[0;34m)\u001b[0m\u001b[0;34m\u001b[0m\u001b[0;34m\u001b[0m\u001b[0m\n\u001b[0m\u001b[1;32m     14\u001b[0m \u001b[0;34m\u001b[0m\u001b[0m\n\u001b[1;32m     15\u001b[0m \u001b[0mjson_string\u001b[0m \u001b[0;34m=\u001b[0m \u001b[0mjson\u001b[0m\u001b[0;34m.\u001b[0m\u001b[0mdumps\u001b[0m\u001b[0;34m(\u001b[0m\u001b[0mSchema\u001b[0m\u001b[0;34m)\u001b[0m\u001b[0;34m\u001b[0m\u001b[0;34m\u001b[0m\u001b[0m\n",
            "\u001b[0;32m/usr/lib/python3.10/json/__init__.py\u001b[0m in \u001b[0;36mloads\u001b[0;34m(s, cls, object_hook, parse_float, parse_int, parse_constant, object_pairs_hook, **kw)\u001b[0m\n\u001b[1;32m    344\u001b[0m             \u001b[0mparse_int\u001b[0m \u001b[0;32mis\u001b[0m \u001b[0;32mNone\u001b[0m \u001b[0;32mand\u001b[0m \u001b[0mparse_float\u001b[0m \u001b[0;32mis\u001b[0m \u001b[0;32mNone\u001b[0m \u001b[0;32mand\u001b[0m\u001b[0;34m\u001b[0m\u001b[0;34m\u001b[0m\u001b[0m\n\u001b[1;32m    345\u001b[0m             parse_constant is None and object_pairs_hook is None and not kw):\n\u001b[0;32m--> 346\u001b[0;31m         \u001b[0;32mreturn\u001b[0m \u001b[0m_default_decoder\u001b[0m\u001b[0;34m.\u001b[0m\u001b[0mdecode\u001b[0m\u001b[0;34m(\u001b[0m\u001b[0ms\u001b[0m\u001b[0;34m)\u001b[0m\u001b[0;34m\u001b[0m\u001b[0;34m\u001b[0m\u001b[0m\n\u001b[0m\u001b[1;32m    347\u001b[0m     \u001b[0;32mif\u001b[0m \u001b[0mcls\u001b[0m \u001b[0;32mis\u001b[0m \u001b[0;32mNone\u001b[0m\u001b[0;34m:\u001b[0m\u001b[0;34m\u001b[0m\u001b[0;34m\u001b[0m\u001b[0m\n\u001b[1;32m    348\u001b[0m         \u001b[0mcls\u001b[0m \u001b[0;34m=\u001b[0m \u001b[0mJSONDecoder\u001b[0m\u001b[0;34m\u001b[0m\u001b[0;34m\u001b[0m\u001b[0m\n",
            "\u001b[0;32m/usr/lib/python3.10/json/decoder.py\u001b[0m in \u001b[0;36mdecode\u001b[0;34m(self, s, _w)\u001b[0m\n\u001b[1;32m    335\u001b[0m \u001b[0;34m\u001b[0m\u001b[0m\n\u001b[1;32m    336\u001b[0m         \"\"\"\n\u001b[0;32m--> 337\u001b[0;31m         \u001b[0mobj\u001b[0m\u001b[0;34m,\u001b[0m \u001b[0mend\u001b[0m \u001b[0;34m=\u001b[0m \u001b[0mself\u001b[0m\u001b[0;34m.\u001b[0m\u001b[0mraw_decode\u001b[0m\u001b[0;34m(\u001b[0m\u001b[0ms\u001b[0m\u001b[0;34m,\u001b[0m \u001b[0midx\u001b[0m\u001b[0;34m=\u001b[0m\u001b[0m_w\u001b[0m\u001b[0;34m(\u001b[0m\u001b[0ms\u001b[0m\u001b[0;34m,\u001b[0m \u001b[0;36m0\u001b[0m\u001b[0;34m)\u001b[0m\u001b[0;34m.\u001b[0m\u001b[0mend\u001b[0m\u001b[0;34m(\u001b[0m\u001b[0;34m)\u001b[0m\u001b[0;34m)\u001b[0m\u001b[0;34m\u001b[0m\u001b[0;34m\u001b[0m\u001b[0m\n\u001b[0m\u001b[1;32m    338\u001b[0m         \u001b[0mend\u001b[0m \u001b[0;34m=\u001b[0m \u001b[0m_w\u001b[0m\u001b[0;34m(\u001b[0m\u001b[0ms\u001b[0m\u001b[0;34m,\u001b[0m \u001b[0mend\u001b[0m\u001b[0;34m)\u001b[0m\u001b[0;34m.\u001b[0m\u001b[0mend\u001b[0m\u001b[0;34m(\u001b[0m\u001b[0;34m)\u001b[0m\u001b[0;34m\u001b[0m\u001b[0;34m\u001b[0m\u001b[0m\n\u001b[1;32m    339\u001b[0m         \u001b[0;32mif\u001b[0m \u001b[0mend\u001b[0m \u001b[0;34m!=\u001b[0m \u001b[0mlen\u001b[0m\u001b[0;34m(\u001b[0m\u001b[0ms\u001b[0m\u001b[0;34m)\u001b[0m\u001b[0;34m:\u001b[0m\u001b[0;34m\u001b[0m\u001b[0;34m\u001b[0m\u001b[0m\n",
            "\u001b[0;32m/usr/lib/python3.10/json/decoder.py\u001b[0m in \u001b[0;36mraw_decode\u001b[0;34m(self, s, idx)\u001b[0m\n\u001b[1;32m    353\u001b[0m             \u001b[0mobj\u001b[0m\u001b[0;34m,\u001b[0m \u001b[0mend\u001b[0m \u001b[0;34m=\u001b[0m \u001b[0mself\u001b[0m\u001b[0;34m.\u001b[0m\u001b[0mscan_once\u001b[0m\u001b[0;34m(\u001b[0m\u001b[0ms\u001b[0m\u001b[0;34m,\u001b[0m \u001b[0midx\u001b[0m\u001b[0;34m)\u001b[0m\u001b[0;34m\u001b[0m\u001b[0;34m\u001b[0m\u001b[0m\n\u001b[1;32m    354\u001b[0m         \u001b[0;32mexcept\u001b[0m \u001b[0mStopIteration\u001b[0m \u001b[0;32mas\u001b[0m \u001b[0merr\u001b[0m\u001b[0;34m:\u001b[0m\u001b[0;34m\u001b[0m\u001b[0;34m\u001b[0m\u001b[0m\n\u001b[0;32m--> 355\u001b[0;31m             \u001b[0;32mraise\u001b[0m \u001b[0mJSONDecodeError\u001b[0m\u001b[0;34m(\u001b[0m\u001b[0;34m\"Expecting value\"\u001b[0m\u001b[0;34m,\u001b[0m \u001b[0ms\u001b[0m\u001b[0;34m,\u001b[0m \u001b[0merr\u001b[0m\u001b[0;34m.\u001b[0m\u001b[0mvalue\u001b[0m\u001b[0;34m)\u001b[0m \u001b[0;32mfrom\u001b[0m \u001b[0;32mNone\u001b[0m\u001b[0;34m\u001b[0m\u001b[0;34m\u001b[0m\u001b[0m\n\u001b[0m\u001b[1;32m    356\u001b[0m         \u001b[0;32mreturn\u001b[0m \u001b[0mobj\u001b[0m\u001b[0;34m,\u001b[0m \u001b[0mend\u001b[0m\u001b[0;34m\u001b[0m\u001b[0;34m\u001b[0m\u001b[0m\n",
            "\u001b[0;31mJSONDecodeError\u001b[0m: Expecting value: line 1 column 1 (char 0)"
          ]
        }
      ]
    },
    {
      "cell_type": "markdown",
      "source": [
        "## Creating the JSON file"
      ],
      "metadata": {
        "id": "5AETP4z2BkTp"
      }
    },
    {
      "cell_type": "code",
      "source": [
        "import json\n",
        "\n",
        "'''\n",
        "try this to get an error\n",
        "data={\n",
        "  \"id\": 456,\n",
        "  \"home_phone\": \"987-654-3210\",\n",
        "  \"govt_id_number\": \"ABCD1234\",\n",
        "  \"field1\": \"value1\",\n",
        "  \"field2\": \"value2\",\n",
        "  \"day\": \"InvalidDay\"\n",
        "}\n",
        "\n",
        "'''\n",
        "\n",
        "# Create a dictionary with the given data\n",
        "data = {\n",
        "  \"id\": 123,\n",
        "  \"name\": \"kishore\",\n",
        "  \"home_phone\": \"123-456-7890\",\n",
        "  \"birth_date\": \"1990-01-01\",\n",
        "  \"day\": \"SU\"\n",
        "}\n",
        "\n",
        "# Convert the dictionary to a JSON string\n",
        "json_string = json.dumps(data)\n",
        "\n",
        "# Create a file and write the JSON string to it\n",
        "with open(\"json_file.json\", \"w\") as f:\n",
        "  f.write(json_string)"
      ],
      "metadata": {
        "id": "tt8lphf9btlQ"
      },
      "execution_count": 14,
      "outputs": []
    },
    {
      "cell_type": "markdown",
      "source": [
        "# Actual Implementations according to the instruction\n",
        "Create a class called JsonValidator .The class should be able to validate:\n",
        "1. required fields. Example: id, name field to be declared as they are mandatory\n",
        "2. atleast one of many fields to be present. Example: one of home phone or cell phone\n",
        "or work phone fields\n",
        "3. either one field or another field Either birth date or govt id number\n",
        "4. mutually exclusive fields (if one is present, the other should not be present)\n",
        "5. field value to be one of a set of values. Example: field day can have only one of\n",
        "SU,MO,TU,WE,TH,FR,SA (enum)"
      ],
      "metadata": {
        "id": "_0fiQTmPCexe"
      }
    },
    {
      "cell_type": "code",
      "source": [
        "import json\n",
        "from typing import Union, Optional, List, Dict, Any\n",
        "\n",
        "class JsonValidator:\n",
        "    def __init__(self):\n",
        "        pass\n",
        "\n",
        "    def validate_schema(self, json_file: str, schema_file: str) -> bool:\n",
        "        \"\"\"\n",
        "        Validates a JSON against a given schema file.\n",
        "\n",
        "        :param json_file: Path to the JSON file to be validated.\n",
        "        :type json_file: str\n",
        "        :param schema_file: Path to the schema file.\n",
        "        :type schema_file: str\n",
        "        :return: True if validation succeeds, False otherwise.\n",
        "        :rtype: bool\n",
        "        \"\"\"\n",
        "        try:\n",
        "            # Load JSON data from file\n",
        "            with open(json_file, 'r') as json_data_file:\n",
        "                json_data = json.load(json_data_file)\n",
        "\n",
        "            # Load schema from file\n",
        "            with open(schema_file, 'r') as schema_file:\n",
        "                schema = json.load(schema_file)\n",
        "\n",
        "            # Validate required fields\n",
        "            for field in schema.get('required', []):\n",
        "                if field not in json_data:\n",
        "                    print(f\"{field} is missing from json\")\n",
        "                    return False\n",
        "\n",
        "            # Validate at least one of many fields\n",
        "            for group in schema.get('at_least_one_of', []):\n",
        "                if not any(field in json_data for field in group):\n",
        "                    return False\n",
        "\n",
        "            # Validate either one field or another field\n",
        "            either_one_fields = schema.get('either_one', [])\n",
        "            if not any(field in json_data for field in either_one_fields) or \\\n",
        "               not all(field not in json_data for field in set(schema) - set(either_one_fields)):\n",
        "                return False\n",
        "\n",
        "            # Validate mutually exclusive fields\n",
        "            for field1, field2 in schema.get('mutually_exclusive', []):\n",
        "                if field1 in json_data and field2 in json_data:\n",
        "                    return False\n",
        "\n",
        "            # Validate field values against a set of values\n",
        "            for field, valid_values in schema.get('enum', {}).items():\n",
        "                if field in json_data and json_data[field] not in valid_values:\n",
        "                    return False\n",
        "\n",
        "            return True\n",
        "        except (json.JSONDecodeError, FileNotFoundError):\n",
        "            return False\n",
        "\n",
        "# Example usage\n",
        "if __name__ == \"__main__\":\n",
        "    validator = JsonValidator()\n",
        "    result = validator.validate_schema(\"/content/json_file.json\", \"/content/schema_file.json\")\n",
        "\n",
        "    if result:\n",
        "        print(\"Validation succeeded!\")\n",
        "    else:\n",
        "        print(\"Validation failed.\")\n"
      ],
      "metadata": {
        "colab": {
          "base_uri": "https://localhost:8080/"
        },
        "id": "jlW8aZlXKQ-A",
        "outputId": "9c98105a-24f0-47d6-a684-543bbb99b454"
      },
      "execution_count": 16,
      "outputs": [
        {
          "output_type": "stream",
          "name": "stdout",
          "text": [
            "Validation succeeded!\n"
          ]
        }
      ]
    },
    {
      "cell_type": "code",
      "source": [
        "%%html\n",
        "<!DOCTYPE html>\n",
        "<html>\n",
        "<body>\n",
        "\n",
        "    <h2>Contact Information</h2>\n",
        "    <table border=\"1\">\n",
        "        <tr>\n",
        "            <th>Contact_Info</th>\n",
        "            <th>Contact</th>\n",
        "        </tr>\n",
        "        <tr>\n",
        "            <td>Name</td>\n",
        "            <td>Kishore Jha</td>\n",
        "        </tr>\n",
        "        <tr>\n",
        "            <td>Email</td>\n",
        "            <td><a href=\"mailto:kishorejha321999@gmail.com\">kishorejha321999@gmail.com</a></td>\n",
        "        </tr>\n",
        "         <tr>\n",
        "            <td>ContactNo.</td>\n",
        "            <td>9798157213</td>\n",
        "        </tr>\n",
        "        <tr>\n",
        "            <td>linkdin</td>\n",
        "            <td><a href=\"https://www.linkedin.com/in/kishore-jha-1064361b7/\">https://www.linkedin.com/in/kishore-jha-1064361b7/</a></td>\n",
        "        </tr>\n",
        "\n",
        "          <tr>\n",
        "            <td>github</td>\n",
        "            <td><a href=\"https://github.com/321999\">https://github.com/321999</a></td>\n",
        "        </tr>\n",
        "    </table>\n",
        "\n",
        "</body>\n",
        "\n",
        "</html>\n"
      ],
      "metadata": {
        "colab": {
          "base_uri": "https://localhost:8080/",
          "height": 209
        },
        "id": "hG8mFP90Fe2y",
        "outputId": "ff109f89-d6a6-4236-c20f-aa9e4f131b2e"
      },
      "execution_count": 17,
      "outputs": [
        {
          "output_type": "display_data",
          "data": {
            "text/plain": [
              "<IPython.core.display.HTML object>"
            ],
            "text/html": [
              "<!DOCTYPE html>\n",
              "<html>\n",
              "<body>\n",
              "\n",
              "    <h2>Contact Information</h2>\n",
              "    <table border=\"1\">\n",
              "        <tr>\n",
              "            <th>Contact_Info</th>\n",
              "            <th>Contact</th>\n",
              "        </tr>\n",
              "        <tr>\n",
              "            <td>Name</td>\n",
              "            <td>Kishore Jha</td>\n",
              "        </tr>\n",
              "        <tr>\n",
              "            <td>Email</td>\n",
              "            <td><a href=\"mailto:kishorejha321999@gmail.com\">kishorejha321999@gmail.com</a></td>\n",
              "        </tr>\n",
              "         <tr>\n",
              "            <td>ContactNo.</td>\n",
              "            <td>9798157213</td>\n",
              "        </tr>\n",
              "        <tr>\n",
              "            <td>linkdin</td>\n",
              "            <td><a href=\"https://www.linkedin.com/in/kishore-jha-1064361b7/\">https://www.linkedin.com/in/kishore-jha-1064361b7/</a></td>\n",
              "        </tr>\n",
              "\n",
              "          <tr>\n",
              "            <td>github</td>\n",
              "            <td><a href=\"https://github.com/321999\">https://github.com/321999</a></td>\n",
              "        </tr>\n",
              "    </table>\n",
              "\n",
              "</body>\n",
              "\n",
              "</html>\n"
            ]
          },
          "metadata": {}
        }
      ]
    }
  ]
}